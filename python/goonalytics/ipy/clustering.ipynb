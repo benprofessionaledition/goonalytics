{
 "cells": [
  {
   "cell_type": "code",
   "execution_count": 1,
   "metadata": {
    "collapsed": false
   },
   "outputs": [
    {
     "name": "stdout",
     "output_type": "stream",
     "text": [
      "env: GOOGLE_APPLICATION_CREDENTIALS=/Users/blevine/goonalytics/resources/gcloud-cred.json\n"
     ]
    }
   ],
   "source": [
    "%env GOOGLE_APPLICATION_CREDENTIALS = /Users/blevine/goonalytics/resources/gcloud-cred.json"
   ]
  },
  {
   "cell_type": "code",
   "execution_count": 2,
   "metadata": {
    "collapsed": false
   },
   "outputs": [],
   "source": [
    "from goonalytics.io.gcloudio import BigQueryer, get_thread_posts, random_thread_id\n",
    "from sklearn.feature_extraction.text import TfidfVectorizer\n",
    "from sklearn.cluster import KMeans\n",
    "from time import time\n",
    "from sklearn import metrics"
   ]
  },
  {
   "cell_type": "code",
   "execution_count": 6,
   "metadata": {
    "collapsed": false
   },
   "outputs": [
    {
     "name": "stderr",
     "output_type": "stream",
     "text": [
      "DEBUG:goonalytics.io.gcloudio:Executing synchronous query:  select thread_id, min(rand()) as rand from [empyrean-bridge-150804:forums.f44] group by thread_id having count(post_id) > 4000 order by rand limit 1 \n",
      "DEBUG:goonalytics.io.gcloudio:Executing synchronous query:  select user_id, post_text from [empyrean-bridge-150804:forums.f44] where thread_id = 3221380\n"
     ]
    },
    {
     "name": "stdout",
     "output_type": "stream",
     "text": [
      "  (0, 14217)\t0.10888730124\n",
      "  (0, 29078)\t0.0535023277835\n",
      "  (0, 29041)\t0.0612663177136\n",
      "  (0, 23042)\t0.088305812971\n",
      "  (0, 13879)\t0.17423274988\n",
      "  (0, 19561)\t0.0717866978704\n",
      "  (0, 12668)\t0.0824886104901\n",
      "  (0, 17915)\t0.103093983936\n",
      "  (0, 26067)\t0.084317827075\n",
      "  (0, 11127)\t0.0625247187994\n",
      "  (0, 26122)\t0.078359283537\n",
      "  (0, 24594)\t0.0575481510447\n",
      "  (0, 30772)\t0.116862843891\n",
      "  (0, 30594)\t0.049940243439\n",
      "  (0, 780)\t0.0949436117024\n",
      "  (0, 1237)\t0.221343424685\n",
      "  (0, 13884)\t0.0656806504664\n",
      "  (0, 2492)\t0.105638052214\n",
      "  (0, 23038)\t0.0897214684067\n",
      "  (0, 20818)\t0.079467348019\n",
      "  (0, 22638)\t0.0497781784844\n",
      "  (0, 5150)\t0.056380783899\n",
      "  (0, 21668)\t0.0894314723765\n",
      "  (0, 6394)\t0.056380783899\n",
      "  (0, 17233)\t0.074536297811\n",
      "  :\t:\n",
      "  (1325, 14267)\t0.0571470565862\n",
      "  (1325, 18113)\t0.114294113172\n",
      "  (1325, 27027)\t0.0571470565862\n",
      "  (1325, 3442)\t0.0571470565862\n",
      "  (1325, 2767)\t0.0604142490859\n",
      "  (1325, 253)\t0.0604142490859\n",
      "  (1325, 1777)\t0.0604142490859\n",
      "  (1325, 26530)\t0.0604142490859\n",
      "  (1325, 5534)\t0.0604142490859\n",
      "  (1325, 1034)\t0.0604142490859\n",
      "  (1325, 4815)\t0.0604142490859\n",
      "  (1325, 10265)\t0.0604142490859\n",
      "  (1325, 16212)\t0.0604142490859\n",
      "  (1325, 29044)\t0.120828498172\n",
      "  (1325, 27049)\t0.0604142490859\n",
      "  (1325, 30751)\t0.0604142490859\n",
      "  (1325, 7927)\t0.0604142490859\n",
      "  (1325, 32327)\t0.0604142490859\n",
      "  (1325, 9801)\t0.0604142490859\n",
      "  (1325, 20305)\t0.0604142490859\n",
      "  (1325, 1888)\t0.0604142490859\n",
      "  (1325, 728)\t0.0604142490859\n",
      "  (1325, 30926)\t0.0604142490859\n",
      "  (1325, 5909)\t0.120828498172\n",
      "  (1325, 403)\t0.0604142490859\n"
     ]
    }
   ],
   "source": [
    "tposts = get_thread_posts(random_thread_id(post_count_min=4000))\n",
    "labels = list(tposts.keys())\n",
    "values = [tposts[key] for key in labels]\n",
    "clf = TfidfVectorizer(input='content', stop_words='english', analyzer='word', norm='l2')\n",
    "X = clf.fit_transform(values, labels)\n",
    "print(str(X))"
   ]
  },
  {
   "cell_type": "code",
   "execution_count": 13,
   "metadata": {
    "collapsed": false
   },
   "outputs": [
    {
     "name": "stdout",
     "output_type": "stream",
     "text": [
      "Initialization complete\n",
      "Iteration  0, inertia 2150.856\n",
      "Iteration  1, inertia 1231.545\n",
      "Iteration  2, inertia 1223.353\n",
      "Iteration  3, inertia 1217.386\n",
      "Iteration  4, inertia 1214.333\n",
      "Iteration  5, inertia 1212.777\n",
      "Iteration  6, inertia 1211.619\n",
      "Iteration  7, inertia 1210.826\n",
      "Iteration  8, inertia 1210.168\n",
      "Iteration  9, inertia 1209.763\n",
      "Iteration 10, inertia 1209.432\n",
      "Iteration 11, inertia 1209.128\n",
      "Iteration 12, inertia 1208.877\n",
      "Iteration 13, inertia 1208.633\n",
      "Iteration 14, inertia 1208.462\n",
      "Iteration 15, inertia 1208.307\n",
      "Iteration 16, inertia 1208.179\n",
      "Iteration 17, inertia 1208.086\n",
      "Iteration 18, inertia 1208.058\n",
      "Iteration 19, inertia 1208.034\n",
      "Iteration 20, inertia 1208.019\n",
      "Iteration 21, inertia 1208.011\n",
      "Iteration 22, inertia 1207.994\n",
      "Iteration 23, inertia 1207.981\n",
      "Iteration 24, inertia 1207.977\n",
      "Converged at iteration 24: center shift 0.000000e+00 within tolerance 2.898824e-09\n",
      "done in 4.873s\n",
      "\n"
     ]
    }
   ],
   "source": [
    "num_clusters = 8\n",
    "km = KMeans(n_clusters=num_clusters, init='k-means++', max_iter=100, n_init=1,\n",
    "                verbose=True)\n",
    "t0 = time()\n",
    "km.fit(X)\n",
    "print(\"done in %0.3fs\" % (time() - t0))\n",
    "print()"
   ]
  },
  {
   "cell_type": "code",
   "execution_count": 14,
   "metadata": {
    "collapsed": false
   },
   "outputs": [
    {
     "name": "stdout",
     "output_type": "stream",
     "text": [
      "Clustering sparse data with KMeans(algorithm='auto', copy_x=True, init='k-means++', max_iter=100,\n",
      "    n_clusters=8, n_init=1, n_jobs=1, precompute_distances='auto',\n",
      "    random_state=None, tol=0.0001, verbose=True)\n",
      "Initialization complete\n",
      "Iteration  0, inertia 2170.647\n",
      "Iteration  1, inertia 1228.343\n",
      "Iteration  2, inertia 1216.069\n",
      "Iteration  3, inertia 1212.106\n",
      "Iteration  4, inertia 1211.227\n",
      "Iteration  5, inertia 1210.770\n",
      "Iteration  6, inertia 1210.251\n",
      "Iteration  7, inertia 1209.594\n",
      "Iteration  8, inertia 1208.820\n",
      "Iteration  9, inertia 1208.245\n",
      "Iteration 10, inertia 1207.888\n",
      "Iteration 11, inertia 1207.659\n",
      "Iteration 12, inertia 1207.435\n",
      "Iteration 13, inertia 1207.297\n",
      "Iteration 14, inertia 1207.179\n",
      "Iteration 15, inertia 1207.084\n",
      "Iteration 16, inertia 1207.055\n",
      "Iteration 17, inertia 1207.030\n",
      "Iteration 18, inertia 1207.004\n",
      "Iteration 19, inertia 1206.985\n",
      "Iteration 20, inertia 1206.966\n",
      "Iteration 21, inertia 1206.961\n",
      "Iteration 22, inertia 1206.946\n",
      "Iteration 23, inertia 1206.934\n",
      "Converged at iteration 23: center shift 0.000000e+00 within tolerance 2.898824e-09\n",
      "done in 4.724s\n",
      "\n",
      "Homogeneity: 0.199\n",
      "Completeness: 1.000\n",
      "V-measure: 0.331\n",
      "Adjusted Rand-Index: 0.000\n",
      "Silhouette Coefficient: -0.008\n",
      "\n"
     ]
    }
   ],
   "source": [
    "km = KMeans(n_clusters=num_clusters, init='k-means++', max_iter=100, n_init=1,\n",
    "                verbose=True)\n",
    "\n",
    "print(\"Clustering sparse data with %s\" % km)\n",
    "t0 = time()\n",
    "km.fit(X)\n",
    "print(\"done in %0.3fs\" % (time() - t0))\n",
    "print()\n",
    "\n",
    "print(\"Homogeneity: %0.3f\" % metrics.homogeneity_score(labels, km.labels_))\n",
    "print(\"Completeness: %0.3f\" % metrics.completeness_score(labels, km.labels_))\n",
    "print(\"V-measure: %0.3f\" % metrics.v_measure_score(labels, km.labels_))\n",
    "print(\"Adjusted Rand-Index: %.3f\"\n",
    "      % metrics.adjusted_rand_score(labels, km.labels_))\n",
    "print(\"Silhouette Coefficient: %0.3f\"\n",
    "      % metrics.silhouette_score(X, km.labels_, sample_size=1000))\n",
    "\n",
    "print()"
   ]
  },
  {
   "cell_type": "code",
   "execution_count": null,
   "metadata": {
    "collapsed": true
   },
   "outputs": [],
   "source": []
  },
  {
   "cell_type": "code",
   "execution_count": null,
   "metadata": {
    "collapsed": true
   },
   "outputs": [],
   "source": []
  }
 ],
 "metadata": {
  "kernelspec": {
   "display_name": "Python 3",
   "language": "python",
   "name": "python3"
  },
  "language_info": {
   "codemirror_mode": {
    "name": "ipython",
    "version": 3
   },
   "file_extension": ".py",
   "mimetype": "text/x-python",
   "name": "python",
   "nbconvert_exporter": "python",
   "pygments_lexer": "ipython3",
   "version": "3.5.2"
  }
 },
 "nbformat": 4,
 "nbformat_minor": 0
}
