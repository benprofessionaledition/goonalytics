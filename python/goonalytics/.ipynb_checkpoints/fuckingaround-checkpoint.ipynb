{
 "cells": [
  {
   "cell_type": "code",
   "execution_count": 8,
   "metadata": {
    "collapsed": false
   },
   "outputs": [
    {
     "name": "stdout",
     "output_type": "stream",
     "text": [
      "env: GOOGLE_APPLICATION_CREDENTIALS=/Users/blevine/goonalytics/resources/gcloud-cred.json\n"
     ]
    }
   ],
   "source": [
    "%env GOOGLE_APPLICATION_CREDENTIALS = /Users/blevine/goonalytics/resources/gcloud-cred.json"
   ]
  },
  {
   "cell_type": "code",
   "execution_count": 27,
   "metadata": {
    "collapsed": false
   },
   "outputs": [],
   "source": [
    "from goonalytics.io import gcloudio as gc\n",
    "from goonalytics.io.gcloudio import BigQueryer\n",
    "from goonalytics.settings import GCLOUD_TABLE_NAME\n",
    "from goonalytics.base import User\n",
    "\n",
    "tbl = GCLOUD_TABLE_NAME"
   ]
  },
  {
   "cell_type": "code",
   "execution_count": 23,
   "metadata": {
    "collapsed": false
   },
   "outputs": [
    {
     "name": "stderr",
     "output_type": "stream",
     "text": [
      "DEBUG:goonalytics.io.gcloudio:Executing synchronous query:  select user_id, user_name, min(rand()) as rand from [empyrean-bridge-150804:forums.f44] group by user_id, user_name having count(user_id) > 50 order by rand\n"
     ]
    },
    {
     "name": "stdout",
     "output_type": "stream",
     "text": [
      "User(user_id=116732, user_name='Skwirl')\n"
     ]
    }
   ],
   "source": [
    "def rndusr(min_val=0):\n",
    "    query = ''' select user_id, user_name, min(rand()) as rand from %s group by user_id, user_name having count(user_id) > %d order by rand''' % (GCLOUD_TABLE_NAME,min_val)\n",
    "    bq = gc.BigQueryer()\n",
    "    res = bq.sql_inject(query).rows[0]\n",
    "    return User(user_id=res[0], user_name=res[1])\n",
    "\n",
    "usr = rndusr(50)\n",
    "print(usr)"
   ]
  },
  {
   "cell_type": "code",
   "execution_count": 28,
   "metadata": {
    "collapsed": false
   },
   "outputs": [
    {
     "name": "stderr",
     "output_type": "stream",
     "text": [
      "DEBUG:goonalytics.io.gcloudio:Executing synchronous query:  select post_text from [empyrean-bridge-150804:forums.f44] where user_id=116732 \n"
     ]
    },
    {
     "name": "stdout",
     "output_type": "stream",
     "text": [
      "152706\n"
     ]
    }
   ],
   "source": [
    "def posts_for_user(user: User) -> str:\n",
    "    query = ''' select post_text from %s where user_id=%d ''' % (GCLOUD_TABLE_NAME, user.user_id)\n",
    "    bq = BigQueryer()\n",
    "    qres = bq.sql_inject(query)\n",
    "    from functools import reduce\n",
    "    posts = [row[0] for row in qres.rows]\n",
    "    return reduce(lambda x,y: x + ' ' + y, posts)\n",
    "\n",
    "p = posts_for_user(usr)\n",
    "print(len(p))"
   ]
  },
  {
   "cell_type": "code",
   "execution_count": 4,
   "metadata": {
    "collapsed": false
   },
   "outputs": [],
   "source": [
    "from sklearn.feature_extraction.text import CountVectorizer\n",
    "from sklearn.feature_extraction.text import TfidfTransformer"
   ]
  },
  {
   "cell_type": "code",
   "execution_count": null,
   "metadata": {
    "collapsed": true
   },
   "outputs": [],
   "source": []
  }
 ],
 "metadata": {
  "kernelspec": {
   "display_name": "Python 3",
   "language": "python",
   "name": "python3"
  },
  "language_info": {
   "codemirror_mode": {
    "name": "ipython",
    "version": 3
   },
   "file_extension": ".py",
   "mimetype": "text/x-python",
   "name": "python",
   "nbconvert_exporter": "python",
   "pygments_lexer": "ipython3",
   "version": "3.5.2"
  }
 },
 "nbformat": 4,
 "nbformat_minor": 0
}
